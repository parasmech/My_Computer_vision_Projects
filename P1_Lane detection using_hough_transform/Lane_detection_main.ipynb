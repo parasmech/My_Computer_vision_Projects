{
 "cells": [
  {
   "cell_type": "code",
   "execution_count": 1,
   "id": "6fea9738-91b4-46b6-be4d-f94072c0178e",
   "metadata": {
    "tags": []
   },
   "outputs": [
    {
     "name": "stdout",
     "output_type": "stream",
     "text": [
      "Defaulting to user installation because normal site-packages is not writeable\n",
      "Requirement already satisfied: scipy in /home/parasubu/.local/lib/python3.10/site-packages (1.10.1)\n",
      "Requirement already satisfied: numpy<1.27.0,>=1.19.5 in /home/parasubu/.local/lib/python3.10/site-packages (from scipy) (1.23.5)\n",
      "Note: you may need to restart the kernel to use updated packages.\n"
     ]
    }
   ],
   "source": [
    "pip install scipy"
   ]
  },
  {
   "cell_type": "code",
   "execution_count": 2,
   "id": "baf60762",
   "metadata": {
    "tags": []
   },
   "outputs": [],
   "source": [
    "#pip install opencv-python\n",
    "import cv2\n",
    "import numpy as np\n",
    "from scipy import spatial\n",
    "import math\n",
    "import matplotlib.pyplot as plt\n"
   ]
  },
  {
   "cell_type": "markdown",
   "id": "07c0cda8",
   "metadata": {},
   "source": [
    "# Lane Detection operation for the given video using Hough Transform"
   ]
  },
  {
   "cell_type": "code",
   "execution_count": 3,
   "id": "03208ca6",
   "metadata": {
    "tags": []
   },
   "outputs": [],
   "source": [
    "def gray_scale(image):\n",
    "    return cv2.cvtColor(image,cv2.COLOR_BGR2GRAY)"
   ]
  },
  {
   "cell_type": "code",
   "execution_count": 4,
   "id": "86739e2d",
   "metadata": {
    "tags": []
   },
   "outputs": [],
   "source": [
    "def gaussian_smoothing(image,kernel_dimensions=(5,5)):\n",
    "    gaussian_smooth_image = cv2.GaussianBlur(image,kernel_dimensions,0) #Applying gaussian blur to smooth the image \n",
    "    return gaussian_smooth_image"
   ]
  },
  {
   "cell_type": "code",
   "execution_count": 5,
   "id": "79bb2e53",
   "metadata": {
    "tags": []
   },
   "outputs": [],
   "source": [
    "def canny_edge_detector(image,lower_threshold,upper_threshold):  #50,150\n",
    "    return cv2.Canny(image,lower_threshold,upper_threshold)"
   ]
  },
  {
   "cell_type": "code",
   "execution_count": 6,
   "id": "4895c5df",
   "metadata": {
    "tags": []
   },
   "outputs": [],
   "source": [
    "def ROI_image(image):\n",
    "    height = image.shape[0]\n",
    "    width = image.shape[1]\n",
    "    image =  np.array(image, dtype=np.float32)\n",
    "   \n",
    "    #polygon_coords = np.array([(0, height), (0, round(height/1.2)), (round(width/2),round(height/2)),(width, height)])\n",
    "                               \n",
    "    polygon_coords = np.array([(0,height),(100,360),(540,300),(620,320),(width, height)]) \n",
    "    mask  = np.zeros((height, width))\n",
    "    masked_image = cv2.fillPoly(mask, [polygon_coords], 255)\n",
    "    masked_image = np.array(masked_image, dtype=np.float32)\n",
    "    return cv2.bitwise_and(image, masked_image)"
   ]
  },
  {
   "cell_type": "code",
   "execution_count": 7,
   "id": "04e5493e",
   "metadata": {
    "tags": []
   },
   "outputs": [],
   "source": [
    "def hough_transformation(ROI_img,rho,theta, threshold,lines, minLineLength, maxLineGap):\n",
    "    image = cv2.convertScaleAbs(ROI_img)\n",
    "    lines = cv2.HoughLinesP(image, rho, theta,threshold,lines,minLineLength, maxLineGap)\n",
    "    return lines"
   ]
  },
  {
   "cell_type": "code",
   "execution_count": 8,
   "id": "7751c457",
   "metadata": {
    "tags": []
   },
   "outputs": [],
   "source": [
    "def get_coordinates(image, parameters):\n",
    "    slope, intercept = parameters\n",
    "    if slope<0:\n",
    "        y1 = image.shape[0]\n",
    "        y2 = int(y1*(3/5))#3/5\n",
    "        x1 = np.clip(int((y1-intercept)/slope), 0, image.shape[1])\n",
    "        x2 = int((y2-intercept)/slope)\n",
    "    else:\n",
    "        y1 = image.shape[0]\n",
    "        y2 = int(y1*(3/5))\n",
    "        x1 = int((y1-intercept)/slope*0.99)#*0.98\n",
    "        x2 = int((y2-intercept)/slope)\n",
    "    \n",
    "    return np.array([x1, y1, x2, y2])"
   ]
  },
  {
   "cell_type": "code",
   "execution_count": 9,
   "id": "97d40ee5-dd79-4ce1-ba67-7840252d7e17",
   "metadata": {
    "tags": []
   },
   "outputs": [],
   "source": [
    "def average_slope_intercept(image,lines):\n",
    "    left_lines = []\n",
    "    right_lines = []\n",
    "    \n",
    "    #getting slope and intercept for each line\n",
    "    for line in lines:\n",
    "        x1, y1, x2, y2 = line[0][:]\n",
    "        params = np.polyfit((x1,x2), (y1,y2), 1)\n",
    "        slope = params[0]\n",
    "        intercept = params[1]\n",
    "        \n",
    "        #left and right lines seperation\n",
    "        if slope<0:    #points on the left have negative slope\n",
    "            left_lines.append((slope, intercept)) # so we add these points to our left_lines array\n",
    "        else:\n",
    "            right_lines.append((slope, intercept)) #else these points are on right side\n",
    "    \n",
    "    #getting coordinates for left lines\n",
    "    left_line_coords = []\n",
    "    for line in left_lines:\n",
    "        if line[0]>-0.1:\n",
    "            continue\n",
    "        left_line_coords.append(get_coordinates(image, line))\n",
    "    \n",
    "    #getting coordinates for rigth lines\n",
    "    right_line_coords = []\n",
    "    for line in right_lines:\n",
    "        if line[0]<0.2:\n",
    "            continue\n",
    "        right_line_coords.append(get_coordinates(image, line))\n",
    "        \n",
    "    final_left_lines = []\n",
    "    final_right_lines = []\n",
    "    cosine_dist = []\n",
    "    #if both curves have same slope\n",
    "    if len(left_line_coords)==0 or len(right_line_coords)==0:\n",
    "        if len(left_line_coords)==0:\n",
    "            lines = right_line_coords\n",
    "        else:\n",
    "            lines = left_line_coords\n",
    "\n",
    "        if len(lines)<=2:\n",
    "            return np.array(lines)\n",
    "        \n",
    "        for line1 in lines:\n",
    "            for line2 in lines:\n",
    "                cosine_dist.append(spatial.distance.cosine(line1, line2))\n",
    "        cosine_dist = [item for item in cosine_dist if not(math.isnan(item))]\n",
    "        threshold = np.percentile(cosine_dist,75)#80\n",
    "        \n",
    "        for left in lines:\n",
    "            for right in lines:                    \n",
    "                dist = spatial.distance.cosine(left, right)\n",
    "\n",
    "                if dist>threshold and len(final_left_lines)==0:\n",
    "                    final_left_lines.append(list(left))\n",
    "                    final_right_lines.append(list(right))\n",
    "                    continue\n",
    "                if dist>threshold:\n",
    "                    if list(left) not in final_left_lines and list(left) not in final_right_lines:\n",
    "                        final_left_lines.append(list(left))\n",
    "                    if list(right) not in final_right_lines and list(right) not in final_right_lines:\n",
    "                        final_right_lines.append(list(right))\n",
    "\n",
    "        left_line = np.average(np.array(final_left_lines), axis=0)\n",
    "        right_line = np.average(np.array(final_right_lines), axis=0)\n",
    "        return np.array([left_line, right_line])\n",
    "    else:\n",
    "        #keeping farthest lines and removing others\n",
    "        for left in left_line_coords:\n",
    "            for right in right_line_coords:\n",
    "                cosine_dist.append(spatial.distance.cosine(left, right))\n",
    "        cosine_dist = [item for item in cosine_dist if not(math.isnan(item))]\n",
    "        threshold = np.percentile(cosine_dist,90)#85\n",
    "\n",
    "        for left in left_line_coords:\n",
    "            for right in right_line_coords:\n",
    "                dist = spatial.distance.cosine(left, right)\n",
    "\n",
    "                if dist>threshold and len(final_left_lines)==0:\n",
    "                    final_left_lines.append(list(left))\n",
    "                    final_right_lines.append(list(right))\n",
    "                    continue\n",
    "                if dist>threshold:\n",
    "                    if list(left) not in final_left_lines:\n",
    "                        final_left_lines.append(list(left))\n",
    "                    if list(right) not in final_right_lines:\n",
    "                        final_right_lines.append(list(right))\n",
    "\n",
    "        left_line = np.average(np.array(final_left_lines), axis=0) # Axis should be 0 because we want averages of columns in array\n",
    "        right_line = np.average(np.array(final_right_lines), axis=0)\n",
    "\n",
    "        return np.array([left_line, right_line])"
   ]
  },
  {
   "cell_type": "code",
   "execution_count": 10,
   "id": "9b887f2e",
   "metadata": {
    "tags": []
   },
   "outputs": [],
   "source": [
    "def draw_lane_lines(image, lines, color=[0,250,0], thickness=12):\n",
    "    line_image = np.zeros_like(image)\n",
    "    for line in lines:\n",
    "        x1, y1, x2, y2 = line\n",
    "        if line is not None:\n",
    "            cv2.line(line_image, (int(x1),int(y1)), (int(x2),int(y2)), color, thickness)\n",
    "            \n",
    "            # Resultant weighted image is calculated as follows: original_img * α + img * β + γ\n",
    "    return cv2.addWeighted(image, 0.8, line_image, 1, 1.0) "
   ]
  },
  {
   "cell_type": "code",
   "execution_count": 11,
   "id": "fc82ba27",
   "metadata": {},
   "outputs": [],
   "source": [
    "def detect_lane(image):\n",
    "    #converting to gray image\n",
    "    gray_img = gray_scale(image)\n",
    "    \n",
    "    #gaussian smoothing\n",
    "    smoothed_img = gaussian_smoothing(gray_img)\n",
    "    \n",
    "    #edge detection\n",
    "    canny_img =canny_edge_detector(smoothed_img,50,180)\n",
    "    \n",
    "    #getting region on interest\n",
    "    roi_img = ROI_image(canny_img)\n",
    "    \n",
    "    #getting line using hough transformation\n",
    "    hough_lines  = hough_transformation(roi_img,1.2,np.pi/180,50,np.array([]),minLineLength=50,maxLineGap=1000)#0\n",
    "    \n",
    "    #generating single lines for left and right lane\n",
    "    lines = average_slope_intercept(roi_img, hough_lines)\n",
    "    threshold = spatial.distance.cosine(lines[0], lines[1])\n",
    "\n",
    "    #marking lanes on the original image\n",
    "    lane_marked = draw_lane_lines(image, lines)\n",
    "    \n",
    "    return threshold, lane_marked"
   ]
  },
  {
   "cell_type": "code",
   "execution_count": 12,
   "id": "9ae6285a",
   "metadata": {},
   "outputs": [
    {
     "name": "stdout",
     "output_type": "stream",
     "text": [
      "Frames per second :  30.0 FPS\n",
      "Frame count :  390.0\n"
     ]
    }
   ],
   "source": [
    "video = cv2.VideoCapture(\"Lane_video.mp4\")\n",
    "\n",
    "#checking fps\n",
    "fps = video.get(5)\n",
    "print('Frames per second : ', fps,'FPS')\n",
    "\n",
    "#checking total number of frames\n",
    "frame_count = video.get(7)\n",
    "print('Frame count : ', frame_count)\n",
    "\n",
    "#obtaining frame size information\n",
    "frame_width = int(video.get(3))\n",
    "frame_height = int(video.get(4))\n",
    "frame_size = (frame_width,frame_height)\n",
    "\n",
    "#writing lane marked images into a video file\n",
    "output = cv2.VideoWriter('Lane_marked_output.avi',cv2.VideoWriter_fourcc('M','J','P','G'),20, frame_size)\n",
    "\n",
    "#loading each frame\n",
    "while(video.isOpened()):\n",
    "    ret, frame = video.read()\n",
    "    if ret == True:\n",
    "        threshold, final_image = detect_lane(frame)  \n",
    "        if 0.2<=threshold<=0.303:\n",
    "            output.write(final_image)\n",
    "            cv2.imshow(\"output\",final_image)\n",
    "            k = cv2.waitKey(20)\n",
    "            if k ==113:\n",
    "                break\n",
    "        else:\n",
    "            continue\n",
    "    else:\n",
    "        break\n",
    "\n",
    "#Releasing the video capture object and destroying all opened windows\n",
    "video.release()\n",
    "cv2.destroyAllWindows()"
   ]
  },
  {
   "cell_type": "code",
   "execution_count": null,
   "id": "bea137a8",
   "metadata": {},
   "outputs": [],
   "source": []
  }
 ],
 "metadata": {
  "kernelspec": {
   "display_name": "Python 3 (ipykernel)",
   "language": "python",
   "name": "python3"
  },
  "language_info": {
   "codemirror_mode": {
    "name": "ipython",
    "version": 3
   },
   "file_extension": ".py",
   "mimetype": "text/x-python",
   "name": "python",
   "nbconvert_exporter": "python",
   "pygments_lexer": "ipython3",
   "version": "3.10.6"
  }
 },
 "nbformat": 4,
 "nbformat_minor": 5
}
