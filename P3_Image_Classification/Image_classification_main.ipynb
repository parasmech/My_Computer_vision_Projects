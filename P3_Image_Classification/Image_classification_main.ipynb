{
 "cells": [
  {
   "cell_type": "markdown",
   "id": "4c0fd8fa-7b77-4caf-8aea-0f7069a58550",
   "metadata": {},
   "source": [
    "# Image Classification Task"
   ]
  },
  {
   "cell_type": "code",
   "execution_count": 1,
   "id": "8a1efa58-84ae-4c30-8da2-08ae0cfdae93",
   "metadata": {
    "tags": []
   },
   "outputs": [
    {
     "name": "stdout",
     "output_type": "stream",
     "text": [
      "Defaulting to user installation because normal site-packages is not writeable\n",
      "Requirement already satisfied: tensorflow in /home/parasubu/.local/lib/python3.10/site-packages (2.12.0)\n",
      "Requirement already satisfied: seaborn in /home/parasubu/.local/lib/python3.10/site-packages (0.12.2)\n",
      "Requirement already satisfied: scikit-learn in /home/parasubu/.local/lib/python3.10/site-packages (1.2.2)\n",
      "Requirement already satisfied: pandas in /home/parasubu/.local/lib/python3.10/site-packages (2.0.1)\n",
      "Requirement already satisfied: absl-py>=1.0.0 in /home/parasubu/.local/lib/python3.10/site-packages (from tensorflow) (1.4.0)\n",
      "Requirement already satisfied: astunparse>=1.6.0 in /home/parasubu/.local/lib/python3.10/site-packages (from tensorflow) (1.6.3)\n",
      "Requirement already satisfied: flatbuffers>=2.0 in /home/parasubu/.local/lib/python3.10/site-packages (from tensorflow) (23.3.3)\n",
      "Requirement already satisfied: gast<=0.4.0,>=0.2.1 in /home/parasubu/.local/lib/python3.10/site-packages (from tensorflow) (0.4.0)\n",
      "Requirement already satisfied: google-pasta>=0.1.1 in /home/parasubu/.local/lib/python3.10/site-packages (from tensorflow) (0.2.0)\n",
      "Requirement already satisfied: grpcio<2.0,>=1.24.3 in /home/parasubu/.local/lib/python3.10/site-packages (from tensorflow) (1.54.0)\n",
      "Requirement already satisfied: h5py>=2.9.0 in /home/parasubu/.local/lib/python3.10/site-packages (from tensorflow) (3.8.0)\n",
      "Requirement already satisfied: jax>=0.3.15 in /home/parasubu/.local/lib/python3.10/site-packages (from tensorflow) (0.4.8)\n",
      "Requirement already satisfied: keras<2.13,>=2.12.0 in /home/parasubu/.local/lib/python3.10/site-packages (from tensorflow) (2.12.0)\n",
      "Requirement already satisfied: libclang>=13.0.0 in /home/parasubu/.local/lib/python3.10/site-packages (from tensorflow) (16.0.0)\n",
      "Requirement already satisfied: numpy<1.24,>=1.22 in /home/parasubu/.local/lib/python3.10/site-packages (from tensorflow) (1.23.5)\n",
      "Requirement already satisfied: opt-einsum>=2.3.2 in /home/parasubu/.local/lib/python3.10/site-packages (from tensorflow) (3.3.0)\n",
      "Requirement already satisfied: packaging in /home/parasubu/.local/lib/python3.10/site-packages (from tensorflow) (23.1)\n",
      "Requirement already satisfied: protobuf!=4.21.0,!=4.21.1,!=4.21.2,!=4.21.3,!=4.21.4,!=4.21.5,<5.0.0dev,>=3.20.3 in /home/parasubu/.local/lib/python3.10/site-packages (from tensorflow) (4.22.4)\n",
      "Requirement already satisfied: setuptools in /usr/lib/python3/dist-packages (from tensorflow) (59.6.0)\n",
      "Requirement already satisfied: six>=1.12.0 in /usr/lib/python3/dist-packages (from tensorflow) (1.16.0)\n",
      "Requirement already satisfied: tensorboard<2.13,>=2.12 in /home/parasubu/.local/lib/python3.10/site-packages (from tensorflow) (2.12.3)\n",
      "Requirement already satisfied: tensorflow-estimator<2.13,>=2.12.0 in /home/parasubu/.local/lib/python3.10/site-packages (from tensorflow) (2.12.0)\n",
      "Requirement already satisfied: termcolor>=1.1.0 in /home/parasubu/.local/lib/python3.10/site-packages (from tensorflow) (2.3.0)\n",
      "Requirement already satisfied: typing-extensions>=3.6.6 in /home/parasubu/.local/lib/python3.10/site-packages (from tensorflow) (4.5.0)\n",
      "Requirement already satisfied: wrapt<1.15,>=1.11.0 in /home/parasubu/.local/lib/python3.10/site-packages (from tensorflow) (1.14.1)\n",
      "Requirement already satisfied: tensorflow-io-gcs-filesystem>=0.23.1 in /home/parasubu/.local/lib/python3.10/site-packages (from tensorflow) (0.32.0)\n",
      "Requirement already satisfied: matplotlib!=3.6.1,>=3.1 in /home/parasubu/.local/lib/python3.10/site-packages (from seaborn) (3.7.1)\n",
      "Requirement already satisfied: scipy>=1.3.2 in /home/parasubu/.local/lib/python3.10/site-packages (from scikit-learn) (1.10.1)\n",
      "Requirement already satisfied: joblib>=1.1.1 in /home/parasubu/.local/lib/python3.10/site-packages (from scikit-learn) (1.2.0)\n",
      "Requirement already satisfied: threadpoolctl>=2.0.0 in /home/parasubu/.local/lib/python3.10/site-packages (from scikit-learn) (3.1.0)\n",
      "Requirement already satisfied: python-dateutil>=2.8.2 in /home/parasubu/.local/lib/python3.10/site-packages (from pandas) (2.8.2)\n",
      "Requirement already satisfied: pytz>=2020.1 in /usr/lib/python3/dist-packages (from pandas) (2022.1)\n",
      "Requirement already satisfied: tzdata>=2022.1 in /home/parasubu/.local/lib/python3.10/site-packages (from pandas) (2023.3)\n",
      "Requirement already satisfied: wheel<1.0,>=0.23.0 in /usr/lib/python3/dist-packages (from astunparse>=1.6.0->tensorflow) (0.37.1)\n",
      "Requirement already satisfied: ml-dtypes>=0.0.3 in /home/parasubu/.local/lib/python3.10/site-packages (from jax>=0.3.15->tensorflow) (0.1.0)\n",
      "Requirement already satisfied: contourpy>=1.0.1 in /home/parasubu/.local/lib/python3.10/site-packages (from matplotlib!=3.6.1,>=3.1->seaborn) (1.0.7)\n",
      "Requirement already satisfied: cycler>=0.10 in /home/parasubu/.local/lib/python3.10/site-packages (from matplotlib!=3.6.1,>=3.1->seaborn) (0.11.0)\n",
      "Requirement already satisfied: fonttools>=4.22.0 in /home/parasubu/.local/lib/python3.10/site-packages (from matplotlib!=3.6.1,>=3.1->seaborn) (4.39.3)\n",
      "Requirement already satisfied: kiwisolver>=1.0.1 in /home/parasubu/.local/lib/python3.10/site-packages (from matplotlib!=3.6.1,>=3.1->seaborn) (1.4.4)\n",
      "Requirement already satisfied: pillow>=6.2.0 in /usr/lib/python3/dist-packages (from matplotlib!=3.6.1,>=3.1->seaborn) (9.0.1)\n",
      "Requirement already satisfied: pyparsing>=2.3.1 in /usr/lib/python3/dist-packages (from matplotlib!=3.6.1,>=3.1->seaborn) (2.4.7)\n",
      "Requirement already satisfied: google-auth<3,>=1.6.3 in /home/parasubu/.local/lib/python3.10/site-packages (from tensorboard<2.13,>=2.12->tensorflow) (2.17.3)\n",
      "Requirement already satisfied: google-auth-oauthlib<1.1,>=0.5 in /home/parasubu/.local/lib/python3.10/site-packages (from tensorboard<2.13,>=2.12->tensorflow) (1.0.0)\n",
      "Requirement already satisfied: markdown>=2.6.8 in /home/parasubu/.local/lib/python3.10/site-packages (from tensorboard<2.13,>=2.12->tensorflow) (3.4.3)\n",
      "Requirement already satisfied: requests<3,>=2.21.0 in /home/parasubu/.local/lib/python3.10/site-packages (from tensorboard<2.13,>=2.12->tensorflow) (2.29.0)\n",
      "Requirement already satisfied: tensorboard-data-server<0.8.0,>=0.7.0 in /home/parasubu/.local/lib/python3.10/site-packages (from tensorboard<2.13,>=2.12->tensorflow) (0.7.0)\n",
      "Requirement already satisfied: werkzeug>=1.0.1 in /home/parasubu/.local/lib/python3.10/site-packages (from tensorboard<2.13,>=2.12->tensorflow) (2.3.3)\n",
      "Requirement already satisfied: cachetools<6.0,>=2.0.0 in /home/parasubu/.local/lib/python3.10/site-packages (from google-auth<3,>=1.6.3->tensorboard<2.13,>=2.12->tensorflow) (5.3.0)\n",
      "Requirement already satisfied: pyasn1-modules>=0.2.1 in /home/parasubu/.local/lib/python3.10/site-packages (from google-auth<3,>=1.6.3->tensorboard<2.13,>=2.12->tensorflow) (0.3.0)\n",
      "Requirement already satisfied: rsa<5,>=3.1.4 in /home/parasubu/.local/lib/python3.10/site-packages (from google-auth<3,>=1.6.3->tensorboard<2.13,>=2.12->tensorflow) (4.9)\n",
      "Requirement already satisfied: requests-oauthlib>=0.7.0 in /home/parasubu/.local/lib/python3.10/site-packages (from google-auth-oauthlib<1.1,>=0.5->tensorboard<2.13,>=2.12->tensorflow) (1.3.1)\n",
      "Requirement already satisfied: charset-normalizer<4,>=2 in /home/parasubu/.local/lib/python3.10/site-packages (from requests<3,>=2.21.0->tensorboard<2.13,>=2.12->tensorflow) (3.1.0)\n",
      "Requirement already satisfied: idna<4,>=2.5 in /usr/lib/python3/dist-packages (from requests<3,>=2.21.0->tensorboard<2.13,>=2.12->tensorflow) (3.3)\n",
      "Requirement already satisfied: urllib3<1.27,>=1.21.1 in /usr/lib/python3/dist-packages (from requests<3,>=2.21.0->tensorboard<2.13,>=2.12->tensorflow) (1.26.5)\n",
      "Requirement already satisfied: certifi>=2017.4.17 in /usr/lib/python3/dist-packages (from requests<3,>=2.21.0->tensorboard<2.13,>=2.12->tensorflow) (2020.6.20)\n",
      "Requirement already satisfied: MarkupSafe>=2.1.1 in /home/parasubu/.local/lib/python3.10/site-packages (from werkzeug>=1.0.1->tensorboard<2.13,>=2.12->tensorflow) (2.1.2)\n",
      "Requirement already satisfied: pyasn1<0.6.0,>=0.4.6 in /home/parasubu/.local/lib/python3.10/site-packages (from pyasn1-modules>=0.2.1->google-auth<3,>=1.6.3->tensorboard<2.13,>=2.12->tensorflow) (0.5.0)\n",
      "Requirement already satisfied: oauthlib>=3.0.0 in /usr/lib/python3/dist-packages (from requests-oauthlib>=0.7.0->google-auth-oauthlib<1.1,>=0.5->tensorboard<2.13,>=2.12->tensorflow) (3.2.0)\n",
      "Note: you may need to restart the kernel to use updated packages.\n"
     ]
    }
   ],
   "source": [
    "pip install tensorflow seaborn scikit-learn pandas \n"
   ]
  },
  {
   "cell_type": "code",
   "execution_count": 2,
   "id": "a33a609a-b8ad-40e7-a868-c74b5b1144b5",
   "metadata": {},
   "outputs": [],
   "source": [
    " #pip install seaborn scikit-learn pandas  "
   ]
  },
  {
   "cell_type": "code",
   "execution_count": 23,
   "id": "3127e45e-ce7e-4792-8af4-0d4226e48a41",
   "metadata": {
    "tags": []
   },
   "outputs": [],
   "source": [
    "import os\n",
    "import matplotlib.pyplot as plt\n",
    "from matplotlib.pyplot import imshow\n",
    "import numpy as np\n",
    "import random\n",
    "import glob\n",
    "import requests\n",
    "import itertools\n",
    "import shutil\n",
    "from PIL import Image\n",
    "\n",
    "\n",
    "os.environ['TF_CPP_MIN_LOG_LEVEL'] = '3'\n",
    "import tensorflow as tf\n",
    "from tensorflow import keras\n",
    "from tensorflow.keras.models import Model\n",
    "from tensorflow.keras.layers import Input\n",
    "from tensorflow.keras.layers import Dense, Conv2D, Conv2DTranspose, MaxPooling2D\n",
    "from tensorflow.keras.layers import BatchNormalization, Dropout\n",
    "from tensorflow.keras.layers import Activation\n",
    "from tensorflow.keras.layers import Concatenate\n",
    "from tensorflow.keras.preprocessing import image\n",
    "from tensorflow.keras.utils import to_categorical\n",
    "from keras.applications.mobilenet import MobileNet, preprocess_input\n",
    "from tensorflow.keras.applications.mobilenet_v2 import MobileNetV2\n",
    "from keras.preprocessing.image import ImageDataGenerator\n",
    "from keras.layers import Dense, GlobalAveragePooling2D\n",
    "\n",
    "import seaborn as sns\n",
    "\n",
    "from sklearn.metrics import confusion_matrix\n",
    "from sklearn.metrics import classification_report\n",
    "\n",
    "\n",
    "\n",
    "random.seed(123)\n",
    "\n",
    "%matplotlib inline\n",
    "plt.rcParams['figure.figsize'] = (12, 12)"
   ]
  },
  {
   "cell_type": "code",
   "execution_count": 25,
   "id": "5a739cde-f3b6-49b3-a1b0-1acd9b0e4e2c",
   "metadata": {
    "tags": []
   },
   "outputs": [
    {
     "name": "stdout",
     "output_type": "stream",
     "text": [
      "Found 4859 images belonging to 2 classes.\n",
      "Found 200 images belonging to 2 classes.\n",
      "Found 0 images belonging to 1 classes.\n"
     ]
    }
   ],
   "source": [
    "train_datagen =ImageDataGenerator(preprocessing_function=preprocess_input)\n",
    "valid_datagen =ImageDataGenerator(preprocessing_function=preprocess_input)\n",
    "test_datagen=ImageDataGenerator(preprocessing_function=preprocess_input)\n",
    "training_paths = './training_folder/training_set/training_set'\n",
    "train_generator=train_datagen.flow_from_directory(training_paths,\n",
    "                                                 target_size=(224,224),\n",
    "                                                 color_mode='rgb',\n",
    "                                                 batch_size=32,\n",
    "                                                 class_mode='categorical',\n",
    "                                                 shuffle=True,\n",
    "                                                 seed=42)\n",
    "\n",
    "valid_generator=valid_datagen.flow_from_directory(directory=r\"./validation_folder/validation_set/validation_set\",\n",
    "                                                 target_size=(224,224),\n",
    "                                                 color_mode='rgb',\n",
    "                                                 batch_size=32,\n",
    "                                                 class_mode='categorical',\n",
    "                                                 shuffle=True,\n",
    "                                                 seed=42)\n",
    "test_generator=test_datagen.flow_from_directory(directory=r\"./Test_folder/\",\n",
    "                                                 target_size=(224,224),\n",
    "                                                 color_mode='rgb',\n",
    "                                                 batch_size=1,\n",
    "                                                 class_mode=None,\n",
    "                                                 shuffle=False)\n"
   ]
  },
  {
   "cell_type": "code",
   "execution_count": 5,
   "id": "13295390-aef9-49d9-8e4d-80aab75149c4",
   "metadata": {
    "tags": []
   },
   "outputs": [
    {
     "name": "stdout",
     "output_type": "stream",
     "text": [
      "Training_data_length :  152\n",
      "Validation_data_length :  7\n",
      "Test_data_length :  10\n",
      "106\n"
     ]
    }
   ],
   "source": [
    "# get number of data samples\n",
    "train_length = len(train_generator)\n",
    "valid_length = len(valid_generator)\n",
    "test_length = len(test_generator)\n",
    "print(\"Training_data_length : \" , train_length)\n",
    "print(\"Validation_data_length : \" , valid_length)\n",
    "print(\"Test_data_length : \" , test_length)\n",
    "\n",
    "\n",
    "train_size = round(train_length*0.7)  \n",
    "print(train_size)"
   ]
  },
  {
   "cell_type": "code",
   "execution_count": 6,
   "id": "834d4014-98a1-43bd-aa1e-2dedd5898d6e",
   "metadata": {
    "tags": []
   },
   "outputs": [
    {
     "name": "stdout",
     "output_type": "stream",
     "text": [
      "WARNING:tensorflow:`input_shape` is undefined or non-square, or `rows` is not in [96, 128, 160, 192, 224]. Weights for input shape (224, 224) will be loaded as the default.\n",
      "X KerasTensor(type_spec=TensorSpec(shape=(None, None, None, 1280), dtype=tf.float32, name=None), name='out_relu/Relu6:0', description=\"created by layer 'out_relu'\")\n"
     ]
    }
   ],
   "source": [
    "# Model Description\n",
    "\n",
    "base_model=MobileNetV2(weights='imagenet',include_top=False) \n",
    "\n",
    "x=base_model.output\n",
    "print(\"X\" , x)\n",
    "x=GlobalAveragePooling2D()(x)\n",
    "x=Dense(1024,activation='relu')(x) \n",
    "x=Dense(1024,activation='relu')(x) \n",
    "x=Dense(512,activation='relu')(x) \n",
    "preds=Dense(2,activation='softmax')(x) "
   ]
  },
  {
   "cell_type": "code",
   "execution_count": 7,
   "id": "1f15a0f4-1eb3-434d-902c-13e28025cd9d",
   "metadata": {
    "tags": []
   },
   "outputs": [],
   "source": [
    "model=Model(inputs=base_model.input,outputs=preds)"
   ]
  },
  {
   "cell_type": "code",
   "execution_count": 8,
   "id": "83100a4a-ef21-4c4d-94e0-24760f3dbcaa",
   "metadata": {},
   "outputs": [
    {
     "name": "stdout",
     "output_type": "stream",
     "text": [
      "Model: \"model\"\n",
      "__________________________________________________________________________________________________\n",
      " Layer (type)                   Output Shape         Param #     Connected to                     \n",
      "==================================================================================================\n",
      " input_1 (InputLayer)           [(None, None, None,  0           []                               \n",
      "                                 3)]                                                              \n",
      "                                                                                                  \n",
      " Conv1 (Conv2D)                 (None, None, None,   864         ['input_1[0][0]']                \n",
      "                                32)                                                               \n",
      "                                                                                                  \n",
      " bn_Conv1 (BatchNormalization)  (None, None, None,   128         ['Conv1[0][0]']                  \n",
      "                                32)                                                               \n",
      "                                                                                                  \n",
      " Conv1_relu (ReLU)              (None, None, None,   0           ['bn_Conv1[0][0]']               \n",
      "                                32)                                                               \n",
      "                                                                                                  \n",
      " expanded_conv_depthwise (Depth  (None, None, None,   288        ['Conv1_relu[0][0]']             \n",
      " wiseConv2D)                    32)                                                               \n",
      "                                                                                                  \n",
      " expanded_conv_depthwise_BN (Ba  (None, None, None,   128        ['expanded_conv_depthwise[0][0]']\n",
      " tchNormalization)              32)                                                               \n",
      "                                                                                                  \n",
      " expanded_conv_depthwise_relu (  (None, None, None,   0          ['expanded_conv_depthwise_BN[0][0\n",
      " ReLU)                          32)                              ]']                              \n",
      "                                                                                                  \n",
      " expanded_conv_project (Conv2D)  (None, None, None,   512        ['expanded_conv_depthwise_relu[0]\n",
      "                                16)                              [0]']                            \n",
      "                                                                                                  \n",
      " expanded_conv_project_BN (Batc  (None, None, None,   64         ['expanded_conv_project[0][0]']  \n",
      " hNormalization)                16)                                                               \n",
      "                                                                                                  \n",
      " block_1_expand (Conv2D)        (None, None, None,   1536        ['expanded_conv_project_BN[0][0]'\n",
      "                                96)                              ]                                \n",
      "                                                                                                  \n",
      " block_1_expand_BN (BatchNormal  (None, None, None,   384        ['block_1_expand[0][0]']         \n",
      " ization)                       96)                                                               \n",
      "                                                                                                  \n",
      " block_1_expand_relu (ReLU)     (None, None, None,   0           ['block_1_expand_BN[0][0]']      \n",
      "                                96)                                                               \n",
      "                                                                                                  \n",
      " block_1_pad (ZeroPadding2D)    (None, None, None,   0           ['block_1_expand_relu[0][0]']    \n",
      "                                96)                                                               \n",
      "                                                                                                  \n",
      " block_1_depthwise (DepthwiseCo  (None, None, None,   864        ['block_1_pad[0][0]']            \n",
      " nv2D)                          96)                                                               \n",
      "                                                                                                  \n",
      " block_1_depthwise_BN (BatchNor  (None, None, None,   384        ['block_1_depthwise[0][0]']      \n",
      " malization)                    96)                                                               \n",
      "                                                                                                  \n",
      " block_1_depthwise_relu (ReLU)  (None, None, None,   0           ['block_1_depthwise_BN[0][0]']   \n",
      "                                96)                                                               \n",
      "                                                                                                  \n",
      " block_1_project (Conv2D)       (None, None, None,   2304        ['block_1_depthwise_relu[0][0]'] \n",
      "                                24)                                                               \n",
      "                                                                                                  \n",
      " block_1_project_BN (BatchNorma  (None, None, None,   96         ['block_1_project[0][0]']        \n",
      " lization)                      24)                                                               \n",
      "                                                                                                  \n",
      " block_2_expand (Conv2D)        (None, None, None,   3456        ['block_1_project_BN[0][0]']     \n",
      "                                144)                                                              \n",
      "                                                                                                  \n",
      " block_2_expand_BN (BatchNormal  (None, None, None,   576        ['block_2_expand[0][0]']         \n",
      " ization)                       144)                                                              \n",
      "                                                                                                  \n",
      " block_2_expand_relu (ReLU)     (None, None, None,   0           ['block_2_expand_BN[0][0]']      \n",
      "                                144)                                                              \n",
      "                                                                                                  \n",
      " block_2_depthwise (DepthwiseCo  (None, None, None,   1296       ['block_2_expand_relu[0][0]']    \n",
      " nv2D)                          144)                                                              \n",
      "                                                                                                  \n",
      " block_2_depthwise_BN (BatchNor  (None, None, None,   576        ['block_2_depthwise[0][0]']      \n",
      " malization)                    144)                                                              \n",
      "                                                                                                  \n",
      " block_2_depthwise_relu (ReLU)  (None, None, None,   0           ['block_2_depthwise_BN[0][0]']   \n",
      "                                144)                                                              \n",
      "                                                                                                  \n",
      " block_2_project (Conv2D)       (None, None, None,   3456        ['block_2_depthwise_relu[0][0]'] \n",
      "                                24)                                                               \n",
      "                                                                                                  \n",
      " block_2_project_BN (BatchNorma  (None, None, None,   96         ['block_2_project[0][0]']        \n",
      " lization)                      24)                                                               \n",
      "                                                                                                  \n",
      " block_2_add (Add)              (None, None, None,   0           ['block_1_project_BN[0][0]',     \n",
      "                                24)                               'block_2_project_BN[0][0]']     \n",
      "                                                                                                  \n",
      " block_3_expand (Conv2D)        (None, None, None,   3456        ['block_2_add[0][0]']            \n",
      "                                144)                                                              \n",
      "                                                                                                  \n",
      " block_3_expand_BN (BatchNormal  (None, None, None,   576        ['block_3_expand[0][0]']         \n",
      " ization)                       144)                                                              \n",
      "                                                                                                  \n",
      " block_3_expand_relu (ReLU)     (None, None, None,   0           ['block_3_expand_BN[0][0]']      \n",
      "                                144)                                                              \n",
      "                                                                                                  \n",
      " block_3_pad (ZeroPadding2D)    (None, None, None,   0           ['block_3_expand_relu[0][0]']    \n",
      "                                144)                                                              \n",
      "                                                                                                  \n",
      " block_3_depthwise (DepthwiseCo  (None, None, None,   1296       ['block_3_pad[0][0]']            \n",
      " nv2D)                          144)                                                              \n",
      "                                                                                                  \n",
      " block_3_depthwise_BN (BatchNor  (None, None, None,   576        ['block_3_depthwise[0][0]']      \n",
      " malization)                    144)                                                              \n",
      "                                                                                                  \n",
      " block_3_depthwise_relu (ReLU)  (None, None, None,   0           ['block_3_depthwise_BN[0][0]']   \n",
      "                                144)                                                              \n",
      "                                                                                                  \n",
      " block_3_project (Conv2D)       (None, None, None,   4608        ['block_3_depthwise_relu[0][0]'] \n",
      "                                32)                                                               \n",
      "                                                                                                  \n",
      " block_3_project_BN (BatchNorma  (None, None, None,   128        ['block_3_project[0][0]']        \n",
      " lization)                      32)                                                               \n",
      "                                                                                                  \n",
      " block_4_expand (Conv2D)        (None, None, None,   6144        ['block_3_project_BN[0][0]']     \n",
      "                                192)                                                              \n",
      "                                                                                                  \n",
      " block_4_expand_BN (BatchNormal  (None, None, None,   768        ['block_4_expand[0][0]']         \n",
      " ization)                       192)                                                              \n",
      "                                                                                                  \n",
      " block_4_expand_relu (ReLU)     (None, None, None,   0           ['block_4_expand_BN[0][0]']      \n",
      "                                192)                                                              \n",
      "                                                                                                  \n",
      " block_4_depthwise (DepthwiseCo  (None, None, None,   1728       ['block_4_expand_relu[0][0]']    \n",
      " nv2D)                          192)                                                              \n",
      "                                                                                                  \n",
      " block_4_depthwise_BN (BatchNor  (None, None, None,   768        ['block_4_depthwise[0][0]']      \n",
      " malization)                    192)                                                              \n",
      "                                                                                                  \n",
      " block_4_depthwise_relu (ReLU)  (None, None, None,   0           ['block_4_depthwise_BN[0][0]']   \n",
      "                                192)                                                              \n",
      "                                                                                                  \n",
      " block_4_project (Conv2D)       (None, None, None,   6144        ['block_4_depthwise_relu[0][0]'] \n",
      "                                32)                                                               \n",
      "                                                                                                  \n",
      " block_4_project_BN (BatchNorma  (None, None, None,   128        ['block_4_project[0][0]']        \n",
      " lization)                      32)                                                               \n",
      "                                                                                                  \n",
      " block_4_add (Add)              (None, None, None,   0           ['block_3_project_BN[0][0]',     \n",
      "                                32)                               'block_4_project_BN[0][0]']     \n",
      "                                                                                                  \n",
      " block_5_expand (Conv2D)        (None, None, None,   6144        ['block_4_add[0][0]']            \n",
      "                                192)                                                              \n",
      "                                                                                                  \n",
      " block_5_expand_BN (BatchNormal  (None, None, None,   768        ['block_5_expand[0][0]']         \n",
      " ization)                       192)                                                              \n",
      "                                                                                                  \n",
      " block_5_expand_relu (ReLU)     (None, None, None,   0           ['block_5_expand_BN[0][0]']      \n",
      "                                192)                                                              \n",
      "                                                                                                  \n",
      " block_5_depthwise (DepthwiseCo  (None, None, None,   1728       ['block_5_expand_relu[0][0]']    \n",
      " nv2D)                          192)                                                              \n",
      "                                                                                                  \n",
      " block_5_depthwise_BN (BatchNor  (None, None, None,   768        ['block_5_depthwise[0][0]']      \n",
      " malization)                    192)                                                              \n",
      "                                                                                                  \n",
      " block_5_depthwise_relu (ReLU)  (None, None, None,   0           ['block_5_depthwise_BN[0][0]']   \n",
      "                                192)                                                              \n",
      "                                                                                                  \n",
      " block_5_project (Conv2D)       (None, None, None,   6144        ['block_5_depthwise_relu[0][0]'] \n",
      "                                32)                                                               \n",
      "                                                                                                  \n",
      " block_5_project_BN (BatchNorma  (None, None, None,   128        ['block_5_project[0][0]']        \n",
      " lization)                      32)                                                               \n",
      "                                                                                                  \n",
      " block_5_add (Add)              (None, None, None,   0           ['block_4_add[0][0]',            \n",
      "                                32)                               'block_5_project_BN[0][0]']     \n",
      "                                                                                                  \n",
      " block_6_expand (Conv2D)        (None, None, None,   6144        ['block_5_add[0][0]']            \n",
      "                                192)                                                              \n",
      "                                                                                                  \n",
      " block_6_expand_BN (BatchNormal  (None, None, None,   768        ['block_6_expand[0][0]']         \n",
      " ization)                       192)                                                              \n",
      "                                                                                                  \n",
      " block_6_expand_relu (ReLU)     (None, None, None,   0           ['block_6_expand_BN[0][0]']      \n",
      "                                192)                                                              \n",
      "                                                                                                  \n",
      " block_6_pad (ZeroPadding2D)    (None, None, None,   0           ['block_6_expand_relu[0][0]']    \n",
      "                                192)                                                              \n",
      "                                                                                                  \n",
      " block_6_depthwise (DepthwiseCo  (None, None, None,   1728       ['block_6_pad[0][0]']            \n",
      " nv2D)                          192)                                                              \n",
      "                                                                                                  \n",
      " block_6_depthwise_BN (BatchNor  (None, None, None,   768        ['block_6_depthwise[0][0]']      \n",
      " malization)                    192)                                                              \n",
      "                                                                                                  \n",
      " block_6_depthwise_relu (ReLU)  (None, None, None,   0           ['block_6_depthwise_BN[0][0]']   \n",
      "                                192)                                                              \n",
      "                                                                                                  \n",
      " block_6_project (Conv2D)       (None, None, None,   12288       ['block_6_depthwise_relu[0][0]'] \n",
      "                                64)                                                               \n",
      "                                                                                                  \n",
      " block_6_project_BN (BatchNorma  (None, None, None,   256        ['block_6_project[0][0]']        \n",
      " lization)                      64)                                                               \n",
      "                                                                                                  \n",
      " block_7_expand (Conv2D)        (None, None, None,   24576       ['block_6_project_BN[0][0]']     \n",
      "                                384)                                                              \n",
      "                                                                                                  \n",
      " block_7_expand_BN (BatchNormal  (None, None, None,   1536       ['block_7_expand[0][0]']         \n",
      " ization)                       384)                                                              \n",
      "                                                                                                  \n",
      " block_7_expand_relu (ReLU)     (None, None, None,   0           ['block_7_expand_BN[0][0]']      \n",
      "                                384)                                                              \n",
      "                                                                                                  \n",
      " block_7_depthwise (DepthwiseCo  (None, None, None,   3456       ['block_7_expand_relu[0][0]']    \n",
      " nv2D)                          384)                                                              \n",
      "                                                                                                  \n",
      " block_7_depthwise_BN (BatchNor  (None, None, None,   1536       ['block_7_depthwise[0][0]']      \n",
      " malization)                    384)                                                              \n",
      "                                                                                                  \n",
      " block_7_depthwise_relu (ReLU)  (None, None, None,   0           ['block_7_depthwise_BN[0][0]']   \n",
      "                                384)                                                              \n",
      "                                                                                                  \n",
      " block_7_project (Conv2D)       (None, None, None,   24576       ['block_7_depthwise_relu[0][0]'] \n",
      "                                64)                                                               \n",
      "                                                                                                  \n",
      " block_7_project_BN (BatchNorma  (None, None, None,   256        ['block_7_project[0][0]']        \n",
      " lization)                      64)                                                               \n",
      "                                                                                                  \n",
      " block_7_add (Add)              (None, None, None,   0           ['block_6_project_BN[0][0]',     \n",
      "                                64)                               'block_7_project_BN[0][0]']     \n",
      "                                                                                                  \n",
      " block_8_expand (Conv2D)        (None, None, None,   24576       ['block_7_add[0][0]']            \n",
      "                                384)                                                              \n",
      "                                                                                                  \n",
      " block_8_expand_BN (BatchNormal  (None, None, None,   1536       ['block_8_expand[0][0]']         \n",
      " ization)                       384)                                                              \n",
      "                                                                                                  \n",
      " block_8_expand_relu (ReLU)     (None, None, None,   0           ['block_8_expand_BN[0][0]']      \n",
      "                                384)                                                              \n",
      "                                                                                                  \n",
      " block_8_depthwise (DepthwiseCo  (None, None, None,   3456       ['block_8_expand_relu[0][0]']    \n",
      " nv2D)                          384)                                                              \n",
      "                                                                                                  \n",
      " block_8_depthwise_BN (BatchNor  (None, None, None,   1536       ['block_8_depthwise[0][0]']      \n",
      " malization)                    384)                                                              \n",
      "                                                                                                  \n",
      " block_8_depthwise_relu (ReLU)  (None, None, None,   0           ['block_8_depthwise_BN[0][0]']   \n",
      "                                384)                                                              \n",
      "                                                                                                  \n",
      " block_8_project (Conv2D)       (None, None, None,   24576       ['block_8_depthwise_relu[0][0]'] \n",
      "                                64)                                                               \n",
      "                                                                                                  \n",
      " block_8_project_BN (BatchNorma  (None, None, None,   256        ['block_8_project[0][0]']        \n",
      " lization)                      64)                                                               \n",
      "                                                                                                  \n",
      " block_8_add (Add)              (None, None, None,   0           ['block_7_add[0][0]',            \n",
      "                                64)                               'block_8_project_BN[0][0]']     \n",
      "                                                                                                  \n",
      " block_9_expand (Conv2D)        (None, None, None,   24576       ['block_8_add[0][0]']            \n",
      "                                384)                                                              \n",
      "                                                                                                  \n",
      " block_9_expand_BN (BatchNormal  (None, None, None,   1536       ['block_9_expand[0][0]']         \n",
      " ization)                       384)                                                              \n",
      "                                                                                                  \n",
      " block_9_expand_relu (ReLU)     (None, None, None,   0           ['block_9_expand_BN[0][0]']      \n",
      "                                384)                                                              \n",
      "                                                                                                  \n",
      " block_9_depthwise (DepthwiseCo  (None, None, None,   3456       ['block_9_expand_relu[0][0]']    \n",
      " nv2D)                          384)                                                              \n",
      "                                                                                                  \n",
      " block_9_depthwise_BN (BatchNor  (None, None, None,   1536       ['block_9_depthwise[0][0]']      \n",
      " malization)                    384)                                                              \n",
      "                                                                                                  \n",
      " block_9_depthwise_relu (ReLU)  (None, None, None,   0           ['block_9_depthwise_BN[0][0]']   \n",
      "                                384)                                                              \n",
      "                                                                                                  \n",
      " block_9_project (Conv2D)       (None, None, None,   24576       ['block_9_depthwise_relu[0][0]'] \n",
      "                                64)                                                               \n",
      "                                                                                                  \n",
      " block_9_project_BN (BatchNorma  (None, None, None,   256        ['block_9_project[0][0]']        \n",
      " lization)                      64)                                                               \n",
      "                                                                                                  \n",
      " block_9_add (Add)              (None, None, None,   0           ['block_8_add[0][0]',            \n",
      "                                64)                               'block_9_project_BN[0][0]']     \n",
      "                                                                                                  \n",
      " block_10_expand (Conv2D)       (None, None, None,   24576       ['block_9_add[0][0]']            \n",
      "                                384)                                                              \n",
      "                                                                                                  \n",
      " block_10_expand_BN (BatchNorma  (None, None, None,   1536       ['block_10_expand[0][0]']        \n",
      " lization)                      384)                                                              \n",
      "                                                                                                  \n",
      " block_10_expand_relu (ReLU)    (None, None, None,   0           ['block_10_expand_BN[0][0]']     \n",
      "                                384)                                                              \n",
      "                                                                                                  \n",
      " block_10_depthwise (DepthwiseC  (None, None, None,   3456       ['block_10_expand_relu[0][0]']   \n",
      " onv2D)                         384)                                                              \n",
      "                                                                                                  \n",
      " block_10_depthwise_BN (BatchNo  (None, None, None,   1536       ['block_10_depthwise[0][0]']     \n",
      " rmalization)                   384)                                                              \n",
      "                                                                                                  \n",
      " block_10_depthwise_relu (ReLU)  (None, None, None,   0          ['block_10_depthwise_BN[0][0]']  \n",
      "                                384)                                                              \n",
      "                                                                                                  \n",
      " block_10_project (Conv2D)      (None, None, None,   36864       ['block_10_depthwise_relu[0][0]']\n",
      "                                96)                                                               \n",
      "                                                                                                  \n",
      " block_10_project_BN (BatchNorm  (None, None, None,   384        ['block_10_project[0][0]']       \n",
      " alization)                     96)                                                               \n",
      "                                                                                                  \n",
      " block_11_expand (Conv2D)       (None, None, None,   55296       ['block_10_project_BN[0][0]']    \n",
      "                                576)                                                              \n",
      "                                                                                                  \n",
      " block_11_expand_BN (BatchNorma  (None, None, None,   2304       ['block_11_expand[0][0]']        \n",
      " lization)                      576)                                                              \n",
      "                                                                                                  \n",
      " block_11_expand_relu (ReLU)    (None, None, None,   0           ['block_11_expand_BN[0][0]']     \n",
      "                                576)                                                              \n",
      "                                                                                                  \n",
      " block_11_depthwise (DepthwiseC  (None, None, None,   5184       ['block_11_expand_relu[0][0]']   \n",
      " onv2D)                         576)                                                              \n",
      "                                                                                                  \n",
      " block_11_depthwise_BN (BatchNo  (None, None, None,   2304       ['block_11_depthwise[0][0]']     \n",
      " rmalization)                   576)                                                              \n",
      "                                                                                                  \n",
      " block_11_depthwise_relu (ReLU)  (None, None, None,   0          ['block_11_depthwise_BN[0][0]']  \n",
      "                                576)                                                              \n",
      "                                                                                                  \n",
      " block_11_project (Conv2D)      (None, None, None,   55296       ['block_11_depthwise_relu[0][0]']\n",
      "                                96)                                                               \n",
      "                                                                                                  \n",
      " block_11_project_BN (BatchNorm  (None, None, None,   384        ['block_11_project[0][0]']       \n",
      " alization)                     96)                                                               \n",
      "                                                                                                  \n",
      " block_11_add (Add)             (None, None, None,   0           ['block_10_project_BN[0][0]',    \n",
      "                                96)                               'block_11_project_BN[0][0]']    \n",
      "                                                                                                  \n",
      " block_12_expand (Conv2D)       (None, None, None,   55296       ['block_11_add[0][0]']           \n",
      "                                576)                                                              \n",
      "                                                                                                  \n",
      " block_12_expand_BN (BatchNorma  (None, None, None,   2304       ['block_12_expand[0][0]']        \n",
      " lization)                      576)                                                              \n",
      "                                                                                                  \n",
      " block_12_expand_relu (ReLU)    (None, None, None,   0           ['block_12_expand_BN[0][0]']     \n",
      "                                576)                                                              \n",
      "                                                                                                  \n",
      " block_12_depthwise (DepthwiseC  (None, None, None,   5184       ['block_12_expand_relu[0][0]']   \n",
      " onv2D)                         576)                                                              \n",
      "                                                                                                  \n",
      " block_12_depthwise_BN (BatchNo  (None, None, None,   2304       ['block_12_depthwise[0][0]']     \n",
      " rmalization)                   576)                                                              \n",
      "                                                                                                  \n",
      " block_12_depthwise_relu (ReLU)  (None, None, None,   0          ['block_12_depthwise_BN[0][0]']  \n",
      "                                576)                                                              \n",
      "                                                                                                  \n",
      " block_12_project (Conv2D)      (None, None, None,   55296       ['block_12_depthwise_relu[0][0]']\n",
      "                                96)                                                               \n",
      "                                                                                                  \n",
      " block_12_project_BN (BatchNorm  (None, None, None,   384        ['block_12_project[0][0]']       \n",
      " alization)                     96)                                                               \n",
      "                                                                                                  \n",
      " block_12_add (Add)             (None, None, None,   0           ['block_11_add[0][0]',           \n",
      "                                96)                               'block_12_project_BN[0][0]']    \n",
      "                                                                                                  \n",
      " block_13_expand (Conv2D)       (None, None, None,   55296       ['block_12_add[0][0]']           \n",
      "                                576)                                                              \n",
      "                                                                                                  \n",
      " block_13_expand_BN (BatchNorma  (None, None, None,   2304       ['block_13_expand[0][0]']        \n",
      " lization)                      576)                                                              \n",
      "                                                                                                  \n",
      " block_13_expand_relu (ReLU)    (None, None, None,   0           ['block_13_expand_BN[0][0]']     \n",
      "                                576)                                                              \n",
      "                                                                                                  \n",
      " block_13_pad (ZeroPadding2D)   (None, None, None,   0           ['block_13_expand_relu[0][0]']   \n",
      "                                576)                                                              \n",
      "                                                                                                  \n",
      " block_13_depthwise (DepthwiseC  (None, None, None,   5184       ['block_13_pad[0][0]']           \n",
      " onv2D)                         576)                                                              \n",
      "                                                                                                  \n",
      " block_13_depthwise_BN (BatchNo  (None, None, None,   2304       ['block_13_depthwise[0][0]']     \n",
      " rmalization)                   576)                                                              \n",
      "                                                                                                  \n",
      " block_13_depthwise_relu (ReLU)  (None, None, None,   0          ['block_13_depthwise_BN[0][0]']  \n",
      "                                576)                                                              \n",
      "                                                                                                  \n",
      " block_13_project (Conv2D)      (None, None, None,   92160       ['block_13_depthwise_relu[0][0]']\n",
      "                                160)                                                              \n",
      "                                                                                                  \n",
      " block_13_project_BN (BatchNorm  (None, None, None,   640        ['block_13_project[0][0]']       \n",
      " alization)                     160)                                                              \n",
      "                                                                                                  \n",
      " block_14_expand (Conv2D)       (None, None, None,   153600      ['block_13_project_BN[0][0]']    \n",
      "                                960)                                                              \n",
      "                                                                                                  \n",
      " block_14_expand_BN (BatchNorma  (None, None, None,   3840       ['block_14_expand[0][0]']        \n",
      " lization)                      960)                                                              \n",
      "                                                                                                  \n",
      " block_14_expand_relu (ReLU)    (None, None, None,   0           ['block_14_expand_BN[0][0]']     \n",
      "                                960)                                                              \n",
      "                                                                                                  \n",
      " block_14_depthwise (DepthwiseC  (None, None, None,   8640       ['block_14_expand_relu[0][0]']   \n",
      " onv2D)                         960)                                                              \n",
      "                                                                                                  \n",
      " block_14_depthwise_BN (BatchNo  (None, None, None,   3840       ['block_14_depthwise[0][0]']     \n",
      " rmalization)                   960)                                                              \n",
      "                                                                                                  \n",
      " block_14_depthwise_relu (ReLU)  (None, None, None,   0          ['block_14_depthwise_BN[0][0]']  \n",
      "                                960)                                                              \n",
      "                                                                                                  \n",
      " block_14_project (Conv2D)      (None, None, None,   153600      ['block_14_depthwise_relu[0][0]']\n",
      "                                160)                                                              \n",
      "                                                                                                  \n",
      " block_14_project_BN (BatchNorm  (None, None, None,   640        ['block_14_project[0][0]']       \n",
      " alization)                     160)                                                              \n",
      "                                                                                                  \n",
      " block_14_add (Add)             (None, None, None,   0           ['block_13_project_BN[0][0]',    \n",
      "                                160)                              'block_14_project_BN[0][0]']    \n",
      "                                                                                                  \n",
      " block_15_expand (Conv2D)       (None, None, None,   153600      ['block_14_add[0][0]']           \n",
      "                                960)                                                              \n",
      "                                                                                                  \n",
      " block_15_expand_BN (BatchNorma  (None, None, None,   3840       ['block_15_expand[0][0]']        \n",
      " lization)                      960)                                                              \n",
      "                                                                                                  \n",
      " block_15_expand_relu (ReLU)    (None, None, None,   0           ['block_15_expand_BN[0][0]']     \n",
      "                                960)                                                              \n",
      "                                                                                                  \n",
      " block_15_depthwise (DepthwiseC  (None, None, None,   8640       ['block_15_expand_relu[0][0]']   \n",
      " onv2D)                         960)                                                              \n",
      "                                                                                                  \n",
      " block_15_depthwise_BN (BatchNo  (None, None, None,   3840       ['block_15_depthwise[0][0]']     \n",
      " rmalization)                   960)                                                              \n",
      "                                                                                                  \n",
      " block_15_depthwise_relu (ReLU)  (None, None, None,   0          ['block_15_depthwise_BN[0][0]']  \n",
      "                                960)                                                              \n",
      "                                                                                                  \n",
      " block_15_project (Conv2D)      (None, None, None,   153600      ['block_15_depthwise_relu[0][0]']\n",
      "                                160)                                                              \n",
      "                                                                                                  \n",
      " block_15_project_BN (BatchNorm  (None, None, None,   640        ['block_15_project[0][0]']       \n",
      " alization)                     160)                                                              \n",
      "                                                                                                  \n",
      " block_15_add (Add)             (None, None, None,   0           ['block_14_add[0][0]',           \n",
      "                                160)                              'block_15_project_BN[0][0]']    \n",
      "                                                                                                  \n",
      " block_16_expand (Conv2D)       (None, None, None,   153600      ['block_15_add[0][0]']           \n",
      "                                960)                                                              \n",
      "                                                                                                  \n",
      " block_16_expand_BN (BatchNorma  (None, None, None,   3840       ['block_16_expand[0][0]']        \n",
      " lization)                      960)                                                              \n",
      "                                                                                                  \n",
      " block_16_expand_relu (ReLU)    (None, None, None,   0           ['block_16_expand_BN[0][0]']     \n",
      "                                960)                                                              \n",
      "                                                                                                  \n",
      " block_16_depthwise (DepthwiseC  (None, None, None,   8640       ['block_16_expand_relu[0][0]']   \n",
      " onv2D)                         960)                                                              \n",
      "                                                                                                  \n",
      " block_16_depthwise_BN (BatchNo  (None, None, None,   3840       ['block_16_depthwise[0][0]']     \n",
      " rmalization)                   960)                                                              \n",
      "                                                                                                  \n",
      " block_16_depthwise_relu (ReLU)  (None, None, None,   0          ['block_16_depthwise_BN[0][0]']  \n",
      "                                960)                                                              \n",
      "                                                                                                  \n",
      " block_16_project (Conv2D)      (None, None, None,   307200      ['block_16_depthwise_relu[0][0]']\n",
      "                                320)                                                              \n",
      "                                                                                                  \n",
      " block_16_project_BN (BatchNorm  (None, None, None,   1280       ['block_16_project[0][0]']       \n",
      " alization)                     320)                                                              \n",
      "                                                                                                  \n",
      " Conv_1 (Conv2D)                (None, None, None,   409600      ['block_16_project_BN[0][0]']    \n",
      "                                1280)                                                             \n",
      "                                                                                                  \n",
      " Conv_1_bn (BatchNormalization)  (None, None, None,   5120       ['Conv_1[0][0]']                 \n",
      "                                1280)                                                             \n",
      "                                                                                                  \n",
      " out_relu (ReLU)                (None, None, None,   0           ['Conv_1_bn[0][0]']              \n",
      "                                1280)                                                             \n",
      "                                                                                                  \n",
      " global_average_pooling2d (Glob  (None, 1280)        0           ['out_relu[0][0]']               \n",
      " alAveragePooling2D)                                                                              \n",
      "                                                                                                  \n",
      " dense (Dense)                  (None, 1024)         1311744     ['global_average_pooling2d[0][0]'\n",
      "                                                                 ]                                \n",
      "                                                                                                  \n",
      " dense_1 (Dense)                (None, 1024)         1049600     ['dense[0][0]']                  \n",
      "                                                                                                  \n",
      " dense_2 (Dense)                (None, 512)          524800      ['dense_1[0][0]']                \n",
      "                                                                                                  \n",
      " dense_3 (Dense)                (None, 2)            1026        ['dense_2[0][0]']                \n",
      "                                                                                                  \n",
      "==================================================================================================\n",
      "Total params: 5,145,154\n",
      "Trainable params: 5,111,042\n",
      "Non-trainable params: 34,112\n",
      "__________________________________________________________________________________________________\n"
     ]
    }
   ],
   "source": [
    "model.summary()"
   ]
  },
  {
   "cell_type": "code",
   "execution_count": 9,
   "id": "f28c22c0-9824-41db-b495-a53f6ad91563",
   "metadata": {
    "tags": []
   },
   "outputs": [],
   "source": [
    "for layer in model.layers[:30]:\n",
    "    layer.trainable=False\n",
    "for layer in model.layers[30:]:\n",
    "    layer.trainable=True"
   ]
  },
  {
   "cell_type": "code",
   "execution_count": 10,
   "id": "1d6ffa46-73c9-4d17-bd3e-ee51d555c28b",
   "metadata": {},
   "outputs": [],
   "source": [
    "model.compile(optimizer='Adam',loss='categorical_crossentropy',metrics=['accuracy'])\n"
   ]
  },
  {
   "cell_type": "code",
   "execution_count": 11,
   "id": "853a3fa5-6be4-4afc-a02a-11b270bb1de2",
   "metadata": {
    "tags": []
   },
   "outputs": [
    {
     "name": "stdout",
     "output_type": "stream",
     "text": [
      "151\n",
      "6\n",
      "Epoch 1/15\n",
      "151/151 [==============================] - 176s 1s/step - loss: 0.1680 - accuracy: 0.9422\n",
      "Epoch 2/15\n",
      "151/151 [==============================] - 168s 1s/step - loss: 0.1114 - accuracy: 0.9625\n",
      "Epoch 3/15\n",
      "151/151 [==============================] - 168s 1s/step - loss: 0.0735 - accuracy: 0.9751\n",
      "Epoch 4/15\n",
      "151/151 [==============================] - 168s 1s/step - loss: 0.0764 - accuracy: 0.9749\n",
      "Epoch 5/15\n",
      "151/151 [==============================] - 167s 1s/step - loss: 0.0504 - accuracy: 0.9814\n",
      "Epoch 6/15\n",
      "151/151 [==============================] - 190s 1s/step - loss: 0.0618 - accuracy: 0.9795\n",
      "Epoch 7/15\n",
      "151/151 [==============================] - 182s 1s/step - loss: 0.0413 - accuracy: 0.9855\n",
      "Epoch 8/15\n",
      "151/151 [==============================] - 209s 1s/step - loss: 0.0294 - accuracy: 0.9894\n",
      "Epoch 9/15\n",
      "151/151 [==============================] - 170s 1s/step - loss: 0.0454 - accuracy: 0.9845\n",
      "Epoch 10/15\n",
      "151/151 [==============================] - 218s 1s/step - loss: 0.0299 - accuracy: 0.9905\n",
      "Epoch 11/15\n",
      "151/151 [==============================] - 174s 1s/step - loss: 0.0374 - accuracy: 0.9876\n",
      "Epoch 12/15\n",
      "151/151 [==============================] - 167s 1s/step - loss: 0.0419 - accuracy: 0.9894\n",
      "Epoch 13/15\n",
      "151/151 [==============================] - 165s 1s/step - loss: 0.0183 - accuracy: 0.9932\n",
      "Epoch 14/15\n",
      "151/151 [==============================] - 164s 1s/step - loss: 0.0149 - accuracy: 0.9959\n",
      "Epoch 15/15\n",
      "151/151 [==============================] - 164s 1s/step - loss: 0.0165 - accuracy: 0.9950\n"
     ]
    }
   ],
   "source": [
    "STEP_SIZE_TRAIN=train_generator.n//train_generator.batch_size\n",
    "STEP_SIZE_VALID=valid_generator.n//valid_generator.batch_size\n",
    "print(STEP_SIZE_TRAIN)\n",
    "print(STEP_SIZE_VALID)\n",
    "history = model.fit(x=train_generator,\n",
    "                    steps_per_epoch=STEP_SIZE_TRAIN,\n",
    "                    epochs=15)"
   ]
  },
  {
   "cell_type": "code",
   "execution_count": 12,
   "id": "cd5fe830-2853-49b8-9b66-9d6333295b88",
   "metadata": {},
   "outputs": [
    {
     "name": "stdout",
     "output_type": "stream",
     "text": [
      "dict_keys(['loss', 'accuracy'])\n"
     ]
    }
   ],
   "source": [
    "print(history.history.keys())\n"
   ]
  },
  {
   "cell_type": "code",
   "execution_count": 13,
   "id": "edd8774a-2501-41d7-bb84-3caa6178e60a",
   "metadata": {},
   "outputs": [
    {
     "data": {
      "image/png": "[encoded data removed]",
      "text/plain": [
       "<Figure size 1200x1200 with 1 Axes>"
      ]
     },
     "metadata": {},
     "output_type": "display_data"
    }
   ],
   "source": [
    "#Summarize history for accuracy\n",
    "\n",
    "plt.plot(history.history['accuracy'])\n",
    "\n",
    "plt.title('model accuracy')\n",
    "plt.ylabel('accuracy')\n",
    "plt.xlabel('epoch')\n",
    "plt.legend(['train'],loc='upper left')\n",
    "plt.show()"
   ]
  },
  {
   "cell_type": "code",
   "execution_count": 14,
   "id": "e55f26ba-b2ba-411a-bd87-8129fb3ea7a6",
   "metadata": {},
   "outputs": [
    {
     "data": {
      "image/png": "[encoded data removed]",
      "text/plain": [
       "<Figure size 1200x1200 with 1 Axes>"
      ]
     },
     "metadata": {},
     "output_type": "display_data"
    }
   ],
   "source": [
    "#summarize history for loss\n",
    "\n",
    "plt.plot(history.history['loss'])\n",
    "\n",
    "plt.title('model loss')\n",
    "plt.ylabel('loss')\n",
    "plt.xlabel('epoch')\n",
    "plt.legend(['train'],loc='upper left')\n",
    "plt.show()"
   ]
  },
  {
   "cell_type": "code",
   "execution_count": 26,
   "id": "c973c808-d658-4f00-b96e-24e72f243c8e",
   "metadata": {
    "tags": []
   },
   "outputs": [
    {
     "name": "stdout",
     "output_type": "stream",
     "text": [
      "Found 14 images belonging to 2 classes.\n"
     ]
    }
   ],
   "source": [
    "test_generator=test_datagen.flow_from_directory(directory=r\"./Test_folder\",\n",
    "                                                 target_size=(224,224),\n",
    "                                                 color_mode='rgb',\n",
    "                                                 batch_size=1,\n",
    "                                                 class_mode=None,\n",
    "                                                 shuffle=False,\n",
    "                                                 seed=42)"
   ]
  },
  {
   "cell_type": "code",
   "execution_count": 16,
   "id": "410fde78-e1f7-44ed-8617-127e1d4334f1",
   "metadata": {
    "tags": []
   },
   "outputs": [
    {
     "name": "stdout",
     "output_type": "stream",
     "text": [
      "10\n"
     ]
    },
    {
     "name": "stderr",
     "output_type": "stream",
     "text": [
      "/tmp/ipykernel_6855/4273960702.py:4: UserWarning: `Model.predict_generator` is deprecated and will be removed in a future version. Please use `Model.predict`, which supports generators.\n",
      "  pred=model.predict_generator(test_generator,\n"
     ]
    },
    {
     "name": "stdout",
     "output_type": "stream",
     "text": [
      "10/10 [==============================] - 1s 21ms/step\n"
     ]
    }
   ],
   "source": [
    "STEP_SIZE_TEST=test_generator.n//test_generator.batch_size\n",
    "print(STEP_SIZE_TEST)\n",
    "test_generator.reset()\n",
    "pred=model.predict_generator(test_generator,\n",
    "steps=STEP_SIZE_TEST,\n",
    "verbose=1)"
   ]
  },
  {
   "cell_type": "code",
   "execution_count": 17,
   "id": "0e25f1ad-7d91-473d-b850-4d5b1601b66f",
   "metadata": {
    "tags": []
   },
   "outputs": [
    {
     "name": "stdout",
     "output_type": "stream",
     "text": [
      "[0 0 0 0 1 1 1 1 1 1]\n"
     ]
    }
   ],
   "source": [
    "predicted_class_indices=np.argmax(pred,axis=1)\n",
    "print(predicted_class_indices)"
   ]
  },
  {
   "cell_type": "code",
   "execution_count": 18,
   "id": "8bd210e3-caf9-44a1-9f5d-fc9238705ef6",
   "metadata": {
    "tags": []
   },
   "outputs": [
    {
     "name": "stdout",
     "output_type": "stream",
     "text": [
      "{'cats': 0, 'dogs': 1}\n",
      "['cats', 'cats', 'cats', 'cats', 'dogs', 'dogs', 'dogs', 'dogs', 'dogs', 'dogs']\n"
     ]
    }
   ],
   "source": [
    "labels = (train_generator.class_indices)\n",
    "print(labels)\n",
    "labels = dict((v,k) for k,v in labels.items())\n",
    "predictions = [labels[k] for k in predicted_class_indices]\n",
    "print(predictions)"
   ]
  },
  {
   "cell_type": "code",
   "execution_count": 19,
   "id": "d21bd313-7f14-4b7a-8494-34507c454642",
   "metadata": {
    "tags": []
   },
   "outputs": [],
   "source": [
    "import pandas as pd\n",
    "filenames=test_generator.filenames\n",
    "results=pd.DataFrame({\"Filename\":filenames,\n",
    "                      \"Predictions\":predictions})\n",
    "results.to_csv(\"results.csv\",index=False)"
   ]
  },
  {
   "cell_type": "markdown",
   "id": "7757566d-be74-4055-afd3-d955d8ab59e1",
   "metadata": {},
   "source": [
    "# CAT / DOG classification on an image"
   ]
  },
  {
   "cell_type": "code",
   "execution_count": 20,
   "id": "45a01cc1-0143-405d-a6b0-b88199822801",
   "metadata": {},
   "outputs": [],
   "source": [
    "def load_image(img_path):\n",
    "    img = image.load_img(img_path ,target_size=(224, 224))  # Accepts the image file and target_size for image\n",
    "    img_array = image.img_to_array(img)                            # Convert images into array\n",
    "    img_array_expanded_dims = np.expand_dims(img_array, axis=0)    # expands the dimensions (4D)\n",
    "    return tf.keras.applications.mobilenet.preprocess_input(img_array_expanded_dims) #preprocesses the given image data to be in the same format as the images that MobileNet was originally trained on."
   ]
  },
  {
   "cell_type": "code",
   "execution_count": 21,
   "id": "4e20cc20-2e26-4d5b-9aff-448b6c8b6a4a",
   "metadata": {},
   "outputs": [
    {
     "name": "stdout",
     "output_type": "stream",
     "text": [
      "1/1 [==============================] - 0s 42ms/step\n",
      "[[0.9973387  0.00266123]]\n",
      "Above Image belongs to :  ['cats']\n"
     ]
    }
   ],
   "source": [
    "\n",
    "MobileNet_model = keras.models.load_model('MobileNet_V2_model.h5')\n",
    "\n",
    "img_path = r'./cat_test.jpg'\n",
    "\n",
    "preprocessed_image = load_image(img_path) #preprocessing\n",
    "prediction_test = model.predict(preprocessed_image)\n",
    "print(prediction_test)\n",
    "predicted_class_indices=np.argmax(prediction_test,axis=1)\n",
    "predictions = [labels[k] for k in predicted_class_indices]\n",
    "print(\"Above Image belongs to : \", predictions)"
   ]
  },
  {
   "cell_type": "code",
   "execution_count": null,
   "id": "a655ef52-6c46-4c6b-9269-7abd833aab12",
   "metadata": {},
   "outputs": [],
   "source": []
  }
 ],
 "metadata": {
  "kernelspec": {
   "display_name": "Python 3 (ipykernel)",
   "language": "python",
   "name": "python3"
  },
  "language_info": {
   "codemirror_mode": {
    "name": "ipython",
    "version": 3
   },
   "file_extension": ".py",
   "mimetype": "text/x-python",
   "name": "python",
   "nbconvert_exporter": "python",
   "pygments_lexer": "ipython3",
   "version": "3.10.6"
  }
 },
 "nbformat": 4,
 "nbformat_minor": 5
}
