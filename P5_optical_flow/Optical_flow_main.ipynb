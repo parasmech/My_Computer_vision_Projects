{
 "cells": [
  {
   "cell_type": "code",
   "execution_count": 1,
   "id": "958471c2-1239-4683-ab10-0cfb4c55768e",
   "metadata": {},
   "outputs": [],
   "source": [
    "import cv2 \n",
    "import numpy as np"
   ]
  },
  {
   "cell_type": "code",
   "execution_count": 2,
   "id": "a7e9f75b-a80c-44f6-83f2-de12bb987b4a",
   "metadata": {},
   "outputs": [],
   "source": [
    "# Identify corners through Psi-tomasi corner detector\n",
    "def find_features(gray_image):\n",
    "    points = cv2.goodFeaturesToTrack(gray_image, mask=None, maxCorners = 100, qualityLevel = 0.4, \n",
    "                                     minDistance = 10, blockSize = 7)\n",
    "    return points"
   ]
  },
  {
   "cell_type": "code",
   "execution_count": 3,
   "id": "2e5bf6c8-69b6-4641-a237-520311aab6da",
   "metadata": {},
   "outputs": [],
   "source": [
    "# Lucas Kannade Sparse Optical flow model\n",
    "def LK_model(gray_t_1, gray_t, prev_points):\n",
    "    points, status, error = cv2.calcOpticalFlowPyrLK(gray_t_1, gray_t, prev_points, None, winSize  = (10, 10), maxLevel = 2,\n",
    "                                                     criteria = (cv2.TERM_CRITERIA_EPS | cv2.TERM_CRITERIA_COUNT, 10, 0.03))\n",
    "    return (points, status, error)"
   ]
  },
  {
   "cell_type": "code",
   "execution_count": 4,
   "id": "64bb004b-bc35-48d8-96bc-f5bfab142fdb",
   "metadata": {
    "tags": []
   },
   "outputs": [],
   "source": [
    "# Driver script\n",
    "\n",
    "filename = \"Traffic_video_input.mp4\"\n",
    "\n",
    "# Assign a random color to show the optical flow.\n",
    "color = np.random.randint(0, 255, (100, 3))\n",
    "capture = cv2.VideoCapture(filename)\n",
    "\n",
    "\n",
    "frame_width = int(capture.get(3))\n",
    "frame_height = int(capture.get(4))\n",
    "size = (frame_width, frame_height)\n",
    "\n",
    "mask_image = cv2.VideoWriter('Optical flow.avi',cv2.VideoWriter_fourcc('M','J','P','G'),20, size)\n",
    "optical_flow_with_features = cv2.VideoWriter('Optical Flow with features.avi',cv2.VideoWriter_fourcc('M','J','P','G'),20, size)\n",
    "features_video = cv2.VideoWriter('Features .avi',cv2.VideoWriter_fourcc('M','J','P','G'),20, size)\n",
    "\n",
    "\n",
    "# Read  the first frame & convert the first frame to grayscale \n",
    "# Find the feature to use for optical flow using the find_features() function.\n",
    "ret, old_frame = capture.read()\n",
    "mask = np.zeros_like(old_frame)\n",
    "prev_gray = cv2.cvtColor(old_frame, cv2.COLOR_BGR2GRAY)\n",
    "prev_points = find_features(prev_gray)\n",
    "\n",
    "while(1):\n",
    "    # Read the current frame\n",
    "    ret, frame = capture.read()\n",
    "\n",
    "    # Terminate while loop at the end of the video feed.\n",
    "    if not ret:\n",
    "        break\n",
    "\n",
    "    # Call the Lucas Kannade model to find the optical flow of the features detected above using corner detector. \n",
    "    current_gray = cv2.cvtColor(frame, cv2.COLOR_BGR2GRAY)\n",
    "    current_points, status, error = LK_model(prev_gray, current_gray, prev_points)\n",
    "\n",
    "    # If the features are detected.\n",
    "    if current_points is not None:\n",
    "        current_points = current_points[status == 1]\n",
    "        old_points = prev_points[status == 1]\n",
    "\n",
    "    # Enumerate over all the feature points detected and draw a circle over the feature points detected\n",
    "    # Also draw a line on the mask from the coordinates of the feature in the previous position to the current position\n",
    "    for i, (current, prev) in enumerate(zip(current_points, old_points)):\n",
    "        a, b = current.ravel()\n",
    "        c, d = prev.ravel()\n",
    "        mask = cv2.line(mask, (int(a), int(b)), (int(c), int(d)), color[i].tolist(), 2)\n",
    "        frame = cv2.circle(frame, (int(a), int(b)), 5, color[i].tolist(), -1)\n",
    "\n",
    "    # Write the image to the respective cv2.VideoWriter() objects\n",
    "    mask_image.write(mask)\n",
    "    features_video.write(frame)\n",
    "    img = cv2.add(frame, mask)\n",
    "    optical_flow_with_features.write(img)\n",
    "\n",
    "\n",
    "    k = cv2.waitKey(5) & 0xff\n",
    "    if k == 27:\n",
    "        break\n",
    "\n",
    "    # Set the current frame to previous frame and current frame features to the previous frame features \n",
    "    prev_gray = current_gray.copy()\n",
    "    prev_points = current_points.reshape(-1, 1, 2)\n",
    "\n",
    "# Release all the cv2.VideoWriter() objects tand destroy all windows\n",
    "capture.release()\n",
    "mask_image.release()\n",
    "optical_flow_with_features.release()\n",
    "features_video.release()\n",
    "\n",
    "cv2.destroyAllWindows()\n",
    "\n"
   ]
  }
 ],
 "metadata": {
  "kernelspec": {
   "display_name": "Python 3 (ipykernel)",
   "language": "python",
   "name": "python3"
  },
  "language_info": {
   "codemirror_mode": {
    "name": "ipython",
    "version": 3
   },
   "file_extension": ".py",
   "mimetype": "text/x-python",
   "name": "python",
   "nbconvert_exporter": "python",
   "pygments_lexer": "ipython3",
   "version": "3.10.6"
  }
 },
 "nbformat": 4,
 "nbformat_minor": 5
}
