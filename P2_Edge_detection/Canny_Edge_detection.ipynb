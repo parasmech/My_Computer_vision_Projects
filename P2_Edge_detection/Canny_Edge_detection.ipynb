{
 "cells": [
  {
   "cell_type": "code",
   "execution_count": 1,
   "id": "baf60762",
   "metadata": {},
   "outputs": [],
   "source": [
    "#pip install opencv-python\n",
    "import cv2\n",
    "import numpy as np"
   ]
  },
  {
   "cell_type": "markdown",
   "id": "07c0cda8",
   "metadata": {},
   "source": [
    "# Canny Edge Detection"
   ]
  },
  {
   "cell_type": "code",
   "execution_count": 2,
   "id": "8ad5b631",
   "metadata": {},
   "outputs": [
    {
     "data": {
      "text/plain": [
       "'The Canny edge detector is an edge detection operator that uses a multi-stage algorithm to detect a wide range of edges \\nin images. It is composed of 5 steps :\\n1. Noise reduction\\n2. Gradient calculation\\n3. Non-maximum suppression\\n4. Double threshold\\n5. Edge Tracking by Hysteresis.\\n'"
      ]
     },
     "execution_count": 2,
     "metadata": {},
     "output_type": "execute_result"
    }
   ],
   "source": [
    "\"\"\"The Canny edge detector is an edge detection operator that uses a multi-stage algorithm to detect a wide range of edges \n",
    "in images. It is composed of 5 steps :\n",
    "1. Noise reduction\n",
    "2. Gradient calculation\n",
    "3. Non-maximum suppression\n",
    "4. Double threshold\n",
    "5. Edge Tracking by Hysteresis.\n",
    "\"\"\""
   ]
  },
  {
   "cell_type": "code",
   "execution_count": 3,
   "id": "86739e2d",
   "metadata": {},
   "outputs": [],
   "source": [
    "def gaussian_filter(image,filter_size,sigma):\n",
    "    filtered_image = cv2.GaussianBlur(image,(filter_size,filter_size),sigma)\n",
    "    return filtered_image"
   ]
  },
  {
   "cell_type": "code",
   "execution_count": 6,
   "id": "1a4b9f7b",
   "metadata": {},
   "outputs": [
    {
     "data": {
      "text/plain": [
       "True"
      ]
     },
     "execution_count": 6,
     "metadata": {},
     "output_type": "execute_result"
    }
   ],
   "source": [
    "image = cv2.imread(\"car_original_image.png\")\n",
    "gray_scale = cv2.cvtColor(image, cv2.COLOR_BGR2GRAY)\n",
    "gaussian_filter_image = gaussian_filter(gray_scale,5,5)\n",
    "\n",
    "cv2.imwrite(\"gaussian_filter_image.jpg\", gaussian_filter_image)\n",
    "#cv2.imshow(\"gaussian_filter_image\", np.hstack((gray_scale, gaussian_filter_image)))\n",
    "#cv2.waitKey(0)\n",
    "\n"
   ]
  },
  {
   "cell_type": "code",
   "execution_count": 7,
   "id": "2534bf49",
   "metadata": {},
   "outputs": [],
   "source": [
    "def sobel_filter(image):\n",
    "    vertical_filter = np.array([[-1,0,1],[-2,0,2],[-1,0,1]])\n",
    "    horizontal_filter = np.array([[-1,-2,-1],[0,0,0],[1,2,1]])\n",
    "    \n",
    "    vertical_filtered = cv2.filter2D(image,-1, vertical_filter)\n",
    "    horizontal_filtered = cv2.filter2D(image, -1, horizontal_filter)\n",
    "    \n",
    "    abs_grad_x = cv2.convertScaleAbs (vertical_filtered)\n",
    "    abs_grad_y = cv2.convertScaleAbs (horizontal_filtered)\n",
    "    \n",
    "    grad = cv2.addWeighted(abs_grad_x,0.5,abs_grad_y,0.5,0 )\n",
    "    theta = np.rad2deg(np.arctan2(abs_grad_y,abs_grad_x))\n",
    "    return grad,theta"
   ]
  },
  {
   "cell_type": "code",
   "execution_count": 8,
   "id": "118aae92",
   "metadata": {},
   "outputs": [
    {
     "data": {
      "text/plain": [
       "True"
      ]
     },
     "execution_count": 8,
     "metadata": {},
     "output_type": "execute_result"
    }
   ],
   "source": [
    "sobel_filtered, theta = sobel_filter(gaussian_filter_image)\n",
    "cv2.imwrite(\"sobel_filtered_image.jpg\", sobel_filtered)\n",
    "#cv2.imshow(\"sobel_filtered_image\", sobel_filtered)"
   ]
  },
  {
   "cell_type": "code",
   "execution_count": 9,
   "id": "87557a52",
   "metadata": {},
   "outputs": [],
   "source": [
    "def non_max_suppression(image,angles):\n",
    "    size = image.shape\n",
    "    print(size)\n",
    "    suppressed_edges = np.zeros(size)\n",
    "    for i in range(1,size[0]-1):\n",
    "        for j in range(1,size[1]-1):\n",
    "            if (0<=angles[i,j]<22.5) or (157.5<=angles[i,j]<=180) :\n",
    "                value = max(image[i,j-1] , image[i,j+1])\n",
    "            elif (22.5<=angles[i,j]<67.5) :\n",
    "                value = max(image[i-1,j-1] , image[i+1,j+1])\n",
    "            elif (67.5<=angles[i,j]<112.5) :\n",
    "                value = max(image[i-1,j] , image[i+1,j])\n",
    "            else :\n",
    "                value = max(image[i+1,j-1] , image[i-1,j+1])\n",
    "                \n",
    "            if image[i,j] >= value :\n",
    "                suppressed_edges[i,j] = image[i,j]\n",
    "        \n",
    "    suppressed_edges = np.multiply ( suppressed_edges, 255.0/ suppressed_edges.max())\n",
    "     \n",
    "    return suppressed_edges\n",
    "    "
   ]
  },
  {
   "cell_type": "code",
   "execution_count": 10,
   "id": "566881f6",
   "metadata": {},
   "outputs": [
    {
     "name": "stdout",
     "output_type": "stream",
     "text": [
      "(746, 497)\n"
     ]
    },
    {
     "data": {
      "text/plain": [
       "True"
      ]
     },
     "execution_count": 10,
     "metadata": {},
     "output_type": "execute_result"
    }
   ],
   "source": [
    "nms_matrix = non_max_suppression(sobel_filtered,theta)\n",
    "cv2.imwrite(\"non_max_suppression_image.jpg\", nms_matrix)"
   ]
  },
  {
   "cell_type": "code",
   "execution_count": 11,
   "id": "4cd9c7fb",
   "metadata": {},
   "outputs": [],
   "source": [
    "def double_thresholding_hysteresis(image):\n",
    "    low = 0    #0,50\n",
    "    high = 50  #20,50,100,150\n",
    "    weak = 50\n",
    "    strong = 255\n",
    "    size = image.shape\n",
    "    result = np.zeros(size)\n",
    "    weak_x, weak_y = np.where((image>=low) & (image<high))\n",
    "    strong_x, strong_y = np.where(image>=high)\n",
    "    result[weak_x, weak_y] = weak\n",
    "    result[strong_x, strong_y] = strong\n",
    "    \n",
    "    dx = np.array((-1,-1,0,1,1,1,0,-1))\n",
    "    dy = np.array((0,1,1,1,0,-1,-1,-1))\n",
    "    while(len(strong_x)):\n",
    "        x = strong_x[0]\n",
    "        y = strong_y[0]\n",
    "        strong_x = np.delete(strong_x,0)\n",
    "        strong_y = np.delete(strong_y,0)\n",
    "        for direction in range(len(dx)):\n",
    "            new_x = x + dx[direction]\n",
    "            new_y = y + dy[direction]\n",
    "            \n",
    "        if ((new_x >= 0  & new_x < size[0]) & (new_y >= 0  & new_y < size[1]) and (result[new_x,new_y] == weak)):\n",
    "            result[new_x,new_y] = strong\n",
    "            np.append(strong_x, new_x)\n",
    "            np.append(strong_y, new_y)\n",
    "    result [result != strong] = 0\n",
    "    return result   "
   ]
  },
  {
   "cell_type": "code",
   "execution_count": 12,
   "id": "5967c961",
   "metadata": {},
   "outputs": [
    {
     "data": {
      "text/plain": [
       "True"
      ]
     },
     "execution_count": 12,
     "metadata": {},
     "output_type": "execute_result"
    }
   ],
   "source": [
    "double_thresholding_hysteresis = double_thresholding_hysteresis(nms_matrix)\n",
    "cv2.imwrite(\"Final_image.jpg\", double_thresholding_hysteresis)"
   ]
  },
  {
   "cell_type": "code",
   "execution_count": 13,
   "id": "bf5aaa47",
   "metadata": {},
   "outputs": [
    {
     "data": {
      "text/plain": [
       "' By reducing  the upper threshold value which is used to identify weak & strong pixels, more edges are detected.\\nbut by increasing the upper threshold value, only very strong edges which are strong and connected are identified.\\nSo we must tune the values of threshold as per our input image and application'"
      ]
     },
     "execution_count": 13,
     "metadata": {},
     "output_type": "execute_result"
    }
   ],
   "source": [
    "\"\"\" By reducing  the upper threshold value which is used to identify weak & strong pixels, more edges are detected.\n",
    "but by increasing the upper threshold value, only the edges which are strong and connected are identified.\n",
    "So we must tune the values of threshold as per our input image and application\"\"\""
   ]
  },
  {
   "cell_type": "code",
   "execution_count": null,
   "id": "ea035efc",
   "metadata": {},
   "outputs": [],
   "source": []
  }
 ],
 "metadata": {
  "kernelspec": {
   "display_name": "Python 3 (ipykernel)",
   "language": "python",
   "name": "python3"
  },
  "language_info": {
   "codemirror_mode": {
    "name": "ipython",
    "version": 3
   },
   "file_extension": ".py",
   "mimetype": "text/x-python",
   "name": "python",
   "nbconvert_exporter": "python",
   "pygments_lexer": "ipython3",
   "version": "3.10.6"
  }
 },
 "nbformat": 4,
 "nbformat_minor": 5
}
